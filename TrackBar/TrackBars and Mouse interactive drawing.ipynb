{
 "cells": [
  {
   "cell_type": "code",
   "execution_count": 27,
   "metadata": {},
   "outputs": [],
   "source": [
    "import cv2\n",
    "import numpy as np"
   ]
  },
  {
   "cell_type": "code",
   "execution_count": 28,
   "metadata": {},
   "outputs": [],
   "source": [
    "windowName = 'Drawing'\n",
    "img = np.zeros((512, 512, 3), np.int8)\n",
    "cv2.namedWindow(windowName)\n",
    "\n",
    "def draw_circle(event, x, y, flags, param):\n",
    "    if event == cv2.EVENT_LBUTTONDBLCLK:\n",
    "        cv2.circle(img, (x, y), 40, (0, 0, 255), -1)\n",
    "    if event == cv2.EVENT_LBUTTONDOWN:\n",
    "        cv2.circle(img, (x, y), 20, (255, 0, 0), -1)\n",
    "    if event == cv2.EVENT_RBUTTONDOWN:\n",
    "        cv2.circle(img, (x, y), 30, (0, 255, 0), -1)    \n",
    "cv2.setMouseCallback(windowName, draw_circle)\n",
    "while True:\n",
    "    cv2.imshow(windowName, img)\n",
    "    if cv2.waitKey(20) == 27:\n",
    "        break\n",
    "        \n",
    "cv2.destroyAllWindows()"
   ]
  },
  {
   "cell_type": "code",
   "execution_count": 29,
   "metadata": {},
   "outputs": [],
   "source": [
    "def nothing(x):\n",
    "    pass\n",
    "\n",
    "def trackBar():\n",
    "    # Create a black image, a window\n",
    "    img = np.zeros((300,512,3), np.uint8)\n",
    "    cv2.namedWindow('image')\n",
    "\n",
    "    # create trackbars for color change\n",
    "    cv2.createTrackbar('R','image',0,255,nothing)\n",
    "    cv2.createTrackbar('G','image',0,255,nothing)\n",
    "    cv2.createTrackbar('B','image',0,255,nothing)\n",
    "\n",
    "    # create switch for ON/OFF functionality\n",
    "    switch = '0 : OFF \\n1 : ON'\n",
    "    cv2.createTrackbar(switch, 'image',0,1,nothing)\n",
    "\n",
    "    while(1):\n",
    "        cv2.imshow('image',img)\n",
    "        k = cv2.waitKey(1) \n",
    "        if k == 27:  #27 is the code for ESC key\n",
    "            break\n",
    "\n",
    "        # get current positions of four trackbars\n",
    "        r = cv2.getTrackbarPos('R','image')\n",
    "        g = cv2.getTrackbarPos('G','image')\n",
    "        b = cv2.getTrackbarPos('B','image')\n",
    "        s = cv2.getTrackbarPos(switch,'image')\n",
    "\n",
    "        if s == 0:\n",
    "            img[:] = 0\n",
    "        else:\n",
    "            img[:] = [b,g,r]\n",
    "\n",
    "    cv2.destroyAllWindows()"
   ]
  },
  {
   "cell_type": "code",
   "execution_count": 30,
   "metadata": {},
   "outputs": [],
   "source": [
    "trackBar()"
   ]
  },
  {
   "cell_type": "code",
   "execution_count": null,
   "metadata": {},
   "outputs": [],
   "source": []
  }
 ],
 "metadata": {
  "kernelspec": {
   "display_name": "Python 3",
   "language": "python",
   "name": "python3"
  },
  "language_info": {
   "codemirror_mode": {
    "name": "ipython",
    "version": 3
   },
   "file_extension": ".py",
   "mimetype": "text/x-python",
   "name": "python",
   "nbconvert_exporter": "python",
   "pygments_lexer": "ipython3",
   "version": "3.6.5"
  }
 },
 "nbformat": 4,
 "nbformat_minor": 2
}
