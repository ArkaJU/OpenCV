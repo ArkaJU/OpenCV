{
 "cells": [
  {
   "cell_type": "code",
   "execution_count": 1,
   "metadata": {},
   "outputs": [],
   "source": [
    "import cv2\n",
    "import numpy as np"
   ]
  },
  {
   "cell_type": "code",
   "execution_count": 2,
   "metadata": {},
   "outputs": [],
   "source": [
    "def nothing(x):\n",
    "    pass\n",
    "\n",
    "def trackBar():\n",
    "    # Create a black image, a window\n",
    "    img = np.zeros((300,512,3), np.uint8)\n",
    "    cv2.namedWindow('Image')\n",
    "\n",
    "    # create trackbars for color change\n",
    "    cv2.createTrackbar('R', 'Image', 0, 255, nothing)\n",
    "    cv2.createTrackbar('G', 'Image', 0, 255, nothing)\n",
    "    cv2.createTrackbar('B', 'Image', 0, 255, nothing)\n",
    "\n",
    "    # create switch for ON/OFF functionality\n",
    "    switch = '0 : OFF \\n1 : ON'\n",
    "    cv2.createTrackbar(switch, 'Image', 0, 1, nothing)\n",
    "\n",
    "    while(1):\n",
    "        cv2.imshow('image', img)\n",
    "        k = cv2.waitKey(1) \n",
    "        if k == 27:  #27 is the code for ESC key\n",
    "            break\n",
    "\n",
    "        # get current positions of four trackbars\n",
    "        r = cv2.getTrackbarPos('R', 'Image')\n",
    "        g = cv2.getTrackbarPos('G', 'Image')\n",
    "        b = cv2.getTrackbarPos('B', 'Image')\n",
    "        s = cv2.getTrackbarPos(switch, 'Image')\n",
    "\n",
    "        if s == 0:\n",
    "            img[:] = 0\n",
    "        else:\n",
    "            img[:] = [b,g,r]\n",
    "\n",
    "    cv2.destroyAllWindows()"
   ]
  },
  {
   "cell_type": "code",
   "execution_count": 3,
   "metadata": {},
   "outputs": [],
   "source": [
    "trackBar()"
   ]
  }
 ],
 "metadata": {
  "kernelspec": {
   "display_name": "Python 3",
   "language": "python",
   "name": "python3"
  },
  "language_info": {
   "codemirror_mode": {
    "name": "ipython",
    "version": 3
   },
   "file_extension": ".py",
   "mimetype": "text/x-python",
   "name": "python",
   "nbconvert_exporter": "python",
   "pygments_lexer": "ipython3",
   "version": "3.6.5"
  }
 },
 "nbformat": 4,
 "nbformat_minor": 2
}
